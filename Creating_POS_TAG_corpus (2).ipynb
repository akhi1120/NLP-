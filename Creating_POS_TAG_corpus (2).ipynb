{
 "cells": [
  {
   "cell_type": "code",
   "execution_count": 24,
   "metadata": {
    "collapsed": true
   },
   "outputs": [],
   "source": [
    "import nltk.data \n",
    "import os"
   ]
  },
  {
   "cell_type": "code",
   "execution_count": 25,
   "metadata": {},
   "outputs": [
    {
     "name": "stdout",
     "output_type": "stream",
     "text": [
      "['C:\\\\Users\\\\akhil/nltk_data', 'c:\\\\Users\\\\akhil\\\\AppData\\\\Local\\\\Programs\\\\Python\\\\Python311\\\\nltk_data', 'c:\\\\Users\\\\akhil\\\\AppData\\\\Local\\\\Programs\\\\Python\\\\Python311\\\\share\\\\nltk_data', 'c:\\\\Users\\\\akhil\\\\AppData\\\\Local\\\\Programs\\\\Python\\\\Python311\\\\lib\\\\nltk_data', 'C:\\\\Users\\\\akhil\\\\AppData\\\\Roaming\\\\nltk_data', 'C:\\\\nltk_data', 'D:\\\\nltk_data', 'E:\\\\nltk_data']\n"
     ]
    }
   ],
   "source": [
    "print(nltk.data.path)"
   ]
  },
  {
   "cell_type": "code",
   "execution_count": 26,
   "metadata": {
    "collapsed": true
   },
   "outputs": [],
   "source": [
    "from nltk.corpus.reader import TaggedCorpusReader"
   ]
  },
  {
   "cell_type": "code",
   "execution_count": 28,
   "metadata": {
    "collapsed": true
   },
   "outputs": [],
   "source": [
    "# reader = TaggedCorpusReader(',', r'.*\\.pos')\n",
    "reader = TaggedCorpusReader(root=r'C:\\Users\\akhil\\Downloads', fileids=r'.*\\.pos', sep=',')"
   ]
  },
  {
   "cell_type": "code",
   "execution_count": 29,
   "metadata": {},
   "outputs": [
    {
     "data": {
      "text/plain": [
       "<bound method TaggedCorpusReader.words of <TaggedCorpusReader in 'C:\\\\Users\\\\akhil\\\\Downloads'>>"
      ]
     },
     "execution_count": 29,
     "metadata": {},
     "output_type": "execute_result"
    }
   ],
   "source": [
    "reader.words\n"
   ]
  },
  {
   "cell_type": "code",
   "execution_count": 32,
   "metadata": {},
   "outputs": [
    {
     "data": {
      "text/plain": [
       "<bound method TaggedCorpusReader.tagged_words of <TaggedCorpusReader in 'C:\\\\Users\\\\akhil\\\\Downloads'>>"
      ]
     },
     "execution_count": 32,
     "metadata": {},
     "output_type": "execute_result"
    }
   ],
   "source": [
    "reader.tagged_words"
   ]
  },
  {
   "cell_type": "code",
   "execution_count": 2,
   "metadata": {
    "collapsed": true
   },
   "outputs": [],
   "source": [
    "import nltk"
   ]
  },
  {
   "cell_type": "code",
   "execution_count": 3,
   "metadata": {
    "collapsed": true
   },
   "outputs": [],
   "source": [
    "from nltk.tokenize import word_tokenize"
   ]
  },
  {
   "cell_type": "code",
   "execution_count": 4,
   "metadata": {
    "collapsed": true
   },
   "outputs": [],
   "source": [
    "l1 = word_tokenize(\"Python lives in amazon forest\")"
   ]
  },
  {
   "cell_type": "code",
   "execution_count": 5,
   "metadata": {},
   "outputs": [
    {
     "data": {
      "text/plain": [
       "[('Python', 'NNP'),\n",
       " ('lives', 'VBZ'),\n",
       " ('in', 'IN'),\n",
       " ('amazon', 'NN'),\n",
       " ('forest', 'NN')]"
      ]
     },
     "execution_count": 5,
     "metadata": {},
     "output_type": "execute_result"
    }
   ],
   "source": [
    "nltk.pos_tag(l1)"
   ]
  },
  {
   "cell_type": "code",
   "execution_count": 6,
   "metadata": {},
   "outputs": [],
   "source": [
    "l2 = word_tokenize(\"Electric vehicles (EVs) are changing the car industry by providing a cleaner alternative to gas-powered vehicles. Powered by batteries and electric motors, EVs help reduce carbon emissions. As technology improves, EVs are getting cheaper and offering longer driving ranges. Many governments are building charging stations to meet the growing demand for electric vehicles. With the emphasis on protecting the environment, EV sales are predicted to increase in the next few years. This transition to electric cars is essential in the fight against climate change and reducing environmental damage.\")"
   ]
  },
  {
   "cell_type": "code",
   "execution_count": 7,
   "metadata": {},
   "outputs": [
    {
     "data": {
      "text/plain": [
       "[('Electric', 'NNP'),\n",
       " ('vehicles', 'NNS'),\n",
       " ('(', '('),\n",
       " ('EVs', 'NNP'),\n",
       " (')', ')'),\n",
       " ('are', 'VBP'),\n",
       " ('changing', 'VBG'),\n",
       " ('the', 'DT'),\n",
       " ('car', 'NN'),\n",
       " ('industry', 'NN'),\n",
       " ('by', 'IN'),\n",
       " ('providing', 'VBG'),\n",
       " ('a', 'DT'),\n",
       " ('cleaner', 'JJ'),\n",
       " ('alternative', 'JJ'),\n",
       " ('to', 'TO'),\n",
       " ('gas-powered', 'JJ'),\n",
       " ('vehicles', 'NNS'),\n",
       " ('.', '.'),\n",
       " ('Powered', 'VBN'),\n",
       " ('by', 'IN'),\n",
       " ('batteries', 'NNS'),\n",
       " ('and', 'CC'),\n",
       " ('electric', 'JJ'),\n",
       " ('motors', 'NNS'),\n",
       " (',', ','),\n",
       " ('EVs', 'NNP'),\n",
       " ('help', 'NN'),\n",
       " ('reduce', 'VB'),\n",
       " ('carbon', 'NN'),\n",
       " ('emissions', 'NNS'),\n",
       " ('.', '.'),\n",
       " ('As', 'IN'),\n",
       " ('technology', 'NN'),\n",
       " ('improves', 'NNS'),\n",
       " (',', ','),\n",
       " ('EVs', 'NNP'),\n",
       " ('are', 'VBP'),\n",
       " ('getting', 'VBG'),\n",
       " ('cheaper', 'JJR'),\n",
       " ('and', 'CC'),\n",
       " ('offering', 'VBG'),\n",
       " ('longer', 'RBR'),\n",
       " ('driving', 'JJ'),\n",
       " ('ranges', 'NNS'),\n",
       " ('.', '.'),\n",
       " ('Many', 'JJ'),\n",
       " ('governments', 'NNS'),\n",
       " ('are', 'VBP'),\n",
       " ('building', 'VBG'),\n",
       " ('charging', 'VBG'),\n",
       " ('stations', 'NNS'),\n",
       " ('to', 'TO'),\n",
       " ('meet', 'VB'),\n",
       " ('the', 'DT'),\n",
       " ('growing', 'VBG'),\n",
       " ('demand', 'NN'),\n",
       " ('for', 'IN'),\n",
       " ('electric', 'JJ'),\n",
       " ('vehicles', 'NNS'),\n",
       " ('.', '.'),\n",
       " ('With', 'IN'),\n",
       " ('the', 'DT'),\n",
       " ('emphasis', 'NN'),\n",
       " ('on', 'IN'),\n",
       " ('protecting', 'VBG'),\n",
       " ('the', 'DT'),\n",
       " ('environment', 'NN'),\n",
       " (',', ','),\n",
       " ('EV', 'NNP'),\n",
       " ('sales', 'NNS'),\n",
       " ('are', 'VBP'),\n",
       " ('predicted', 'VBN'),\n",
       " ('to', 'TO'),\n",
       " ('increase', 'VB'),\n",
       " ('in', 'IN'),\n",
       " ('the', 'DT'),\n",
       " ('next', 'JJ'),\n",
       " ('few', 'JJ'),\n",
       " ('years', 'NNS'),\n",
       " ('.', '.'),\n",
       " ('This', 'DT'),\n",
       " ('transition', 'NN'),\n",
       " ('to', 'TO'),\n",
       " ('electric', 'JJ'),\n",
       " ('cars', 'NNS'),\n",
       " ('is', 'VBZ'),\n",
       " ('essential', 'JJ'),\n",
       " ('in', 'IN'),\n",
       " ('the', 'DT'),\n",
       " ('fight', 'NN'),\n",
       " ('against', 'IN'),\n",
       " ('climate', 'NN'),\n",
       " ('change', 'NN'),\n",
       " ('and', 'CC'),\n",
       " ('reducing', 'VBG'),\n",
       " ('environmental', 'JJ'),\n",
       " ('damage', 'NN'),\n",
       " ('.', '.')]"
      ]
     },
     "execution_count": 7,
     "metadata": {},
     "output_type": "execute_result"
    }
   ],
   "source": [
    "nltk.pos_tag(l2)"
   ]
  },
  {
   "cell_type": "code",
   "execution_count": 8,
   "metadata": {},
   "outputs": [],
   "source": [
    "l3 = word_tokenize(\"The Jungle Book follows Mowgli, a boy raised by wolves in the jungle, who learns survival and life lessons from animals like Baloo the bear and Bagheera the panther. As he faces danger from the tiger Shere Khan, Mowgli must decide between staying in the jungle or joining human civilization, discovering his identity along the way.\")"
   ]
  },
  {
   "cell_type": "code",
   "execution_count": 9,
   "metadata": {},
   "outputs": [
    {
     "data": {
      "text/plain": [
       "[('The', 'DT'),\n",
       " ('Jungle', 'NNP'),\n",
       " ('Book', 'NNP'),\n",
       " ('follows', 'VBZ'),\n",
       " ('Mowgli', 'NNP'),\n",
       " (',', ','),\n",
       " ('a', 'DT'),\n",
       " ('boy', 'NN'),\n",
       " ('raised', 'VBN'),\n",
       " ('by', 'IN'),\n",
       " ('wolves', 'NNS'),\n",
       " ('in', 'IN'),\n",
       " ('the', 'DT'),\n",
       " ('jungle', 'NN'),\n",
       " (',', ','),\n",
       " ('who', 'WP'),\n",
       " ('learns', 'VBZ'),\n",
       " ('survival', 'NN'),\n",
       " ('and', 'CC'),\n",
       " ('life', 'NN'),\n",
       " ('lessons', 'NNS'),\n",
       " ('from', 'IN'),\n",
       " ('animals', 'NNS'),\n",
       " ('like', 'IN'),\n",
       " ('Baloo', 'NNP'),\n",
       " ('the', 'DT'),\n",
       " ('bear', 'NN'),\n",
       " ('and', 'CC'),\n",
       " ('Bagheera', 'NNP'),\n",
       " ('the', 'DT'),\n",
       " ('panther', 'NN'),\n",
       " ('.', '.'),\n",
       " ('As', 'IN'),\n",
       " ('he', 'PRP'),\n",
       " ('faces', 'VBZ'),\n",
       " ('danger', 'NN'),\n",
       " ('from', 'IN'),\n",
       " ('the', 'DT'),\n",
       " ('tiger', 'NN'),\n",
       " ('Shere', 'NNP'),\n",
       " ('Khan', 'NNP'),\n",
       " (',', ','),\n",
       " ('Mowgli', 'NNP'),\n",
       " ('must', 'MD'),\n",
       " ('decide', 'VB'),\n",
       " ('between', 'IN'),\n",
       " ('staying', 'VBG'),\n",
       " ('in', 'IN'),\n",
       " ('the', 'DT'),\n",
       " ('jungle', 'NN'),\n",
       " ('or', 'CC'),\n",
       " ('joining', 'VBG'),\n",
       " ('human', 'JJ'),\n",
       " ('civilization', 'NN'),\n",
       " (',', ','),\n",
       " ('discovering', 'VBG'),\n",
       " ('his', 'PRP$'),\n",
       " ('identity', 'NN'),\n",
       " ('along', 'IN'),\n",
       " ('the', 'DT'),\n",
       " ('way', 'NN'),\n",
       " ('.', '.')]"
      ]
     },
     "execution_count": 9,
     "metadata": {},
     "output_type": "execute_result"
    }
   ],
   "source": [
    "nltk.pos_tag(l3)"
   ]
  }
 ],
 "metadata": {
  "kernelspec": {
   "display_name": "Python 3",
   "language": "python",
   "name": "python3"
  },
  "language_info": {
   "codemirror_mode": {
    "name": "ipython",
    "version": 3
   },
   "file_extension": ".py",
   "mimetype": "text/x-python",
   "name": "python",
   "nbconvert_exporter": "python",
   "pygments_lexer": "ipython3",
   "version": "3.11.5"
  }
 },
 "nbformat": 4,
 "nbformat_minor": 2
}
