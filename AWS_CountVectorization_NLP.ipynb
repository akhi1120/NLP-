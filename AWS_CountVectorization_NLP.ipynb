{
 "cells": [
  {
   "cell_type": "markdown",
   "id": "034fc0c4",
   "metadata": {},
   "source": [
    "# importing necessary dependencies"
   ]
  },
  {
   "cell_type": "code",
   "execution_count": 1,
   "id": "ffd35cec",
   "metadata": {},
   "outputs": [],
   "source": [
    "import pandas as pd\n",
    "import numpy as np\n",
    "import os\n",
    "import re\n",
    "import random\n",
    "import pandas as pd"
   ]
  },
  {
   "cell_type": "markdown",
   "id": "4ab41d1d",
   "metadata": {},
   "source": [
    "# loading document"
   ]
  },
  {
   "cell_type": "code",
   "execution_count": 3,
   "id": "081aebc3",
   "metadata": {},
   "outputs": [
    {
     "name": "stdout",
     "output_type": "stream",
     "text": [
      "Index(['Unnamed: 0', 'overall', 'verified', 'reviewTime', 'reviewerID', 'asin',\n",
      "       'style', 'reviewerName', 'reviewText', 'summary', 'unixReviewTime',\n",
      "       'vote', 'image'],\n",
      "      dtype='object')\n"
     ]
    }
   ],
   "source": [
    "import pandas as pd\n",
    "\n",
    "chunk_size=100\n",
    "chunks=pd.read_csv(\"C:\\\\Users\\\\akhil\\\\Downloads\\\\Gen-AI_Internship\\\\aws_review_sofware_dataset.csv\",sep=',',chunksize=chunk_size)\n",
    "df=next(chunks)\n",
    "print(df.columns)"
   ]
  },
  {
   "cell_type": "code",
   "execution_count": 4,
   "id": "c9a75014",
   "metadata": {},
   "outputs": [
    {
     "data": {
      "text/plain": [
       "Index(['Unnamed: 0', 'overall', 'verified', 'reviewTime', 'reviewerID', 'asin',\n",
       "       'style', 'reviewerName', 'reviewText', 'summary', 'unixReviewTime',\n",
       "       'vote', 'image'],\n",
       "      dtype='object')"
      ]
     },
     "execution_count": 4,
     "metadata": {},
     "output_type": "execute_result"
    }
   ],
   "source": [
    "df.columns"
   ]
  },
  {
   "cell_type": "code",
   "execution_count": 5,
   "id": "976c9c98",
   "metadata": {},
   "outputs": [],
   "source": [
    "df[\"words\"]=\"default value\"\n",
    "df[\"sentences\"]=\"default value\"\n",
    "\n",
    "for i in range(df.shape[0]):\n",
    "    df.at[i,\"words\"]=list(\"\")\n",
    "    df.at[i,\"sentences\"]=list(\"\")"
   ]
  },
  {
   "cell_type": "markdown",
   "id": "e7ae3730",
   "metadata": {},
   "source": [
    "# Importing sent tokenize from NLTK"
   ]
  },
  {
   "cell_type": "code",
   "execution_count": 6,
   "id": "d020af21",
   "metadata": {},
   "outputs": [],
   "source": [
    "from nltk.tokenize import sent_tokenize"
   ]
  },
  {
   "cell_type": "code",
   "execution_count": 7,
   "id": "82b6477a",
   "metadata": {},
   "outputs": [
    {
     "name": "stderr",
     "output_type": "stream",
     "text": [
      "[nltk_data] Downloading package punkt to\n",
      "[nltk_data]     C:\\Users\\akhil\\AppData\\Roaming\\nltk_data...\n",
      "[nltk_data]   Package punkt is already up-to-date!\n"
     ]
    },
    {
     "data": {
      "text/plain": [
       "True"
      ]
     },
     "execution_count": 7,
     "metadata": {},
     "output_type": "execute_result"
    }
   ],
   "source": [
    "import nltk\n",
    "nltk.download('punkt')"
   ]
  },
  {
   "cell_type": "code",
   "execution_count": 8,
   "id": "03492c7d",
   "metadata": {},
   "outputs": [],
   "source": [
    "for i in range(df.shape[0]):\n",
    "    l1=sent_tokenize(str(df.loc[i,\"reviewText\"]))\n",
    "    df.at[i,\"sentences\"]=l1"
   ]
  },
  {
   "cell_type": "code",
   "execution_count": 9,
   "id": "43db57f3",
   "metadata": {},
   "outputs": [
    {
     "name": "stdout",
     "output_type": "stream",
     "text": [
      "Requirement already satisfied: pywsd in c:\\users\\akhil\\appdata\\local\\programs\\python\\python311\\lib\\site-packages (1.2.5)\n",
      "Requirement already satisfied: nltk in c:\\users\\akhil\\appdata\\local\\programs\\python\\python311\\lib\\site-packages (from pywsd) (3.9.1)\n",
      "Requirement already satisfied: numpy in c:\\users\\akhil\\appdata\\local\\programs\\python\\python311\\lib\\site-packages (from pywsd) (2.0.2)\n",
      "Requirement already satisfied: pandas in c:\\users\\akhil\\appdata\\local\\programs\\python\\python311\\lib\\site-packages (from pywsd) (2.2.3)\n",
      "Requirement already satisfied: wn==0.0.23 in c:\\users\\akhil\\appdata\\local\\programs\\python\\python311\\lib\\site-packages (from pywsd) (0.0.23)\n",
      "Requirement already satisfied: six in c:\\users\\akhil\\appdata\\roaming\\python\\python311\\site-packages (from pywsd) (1.16.0)\n",
      "Requirement already satisfied: click in c:\\users\\akhil\\appdata\\local\\programs\\python\\python311\\lib\\site-packages (from nltk->pywsd) (8.1.7)\n",
      "Requirement already satisfied: joblib in c:\\users\\akhil\\appdata\\local\\programs\\python\\python311\\lib\\site-packages (from nltk->pywsd) (1.4.2)\n",
      "Requirement already satisfied: regex>=2021.8.3 in c:\\users\\akhil\\appdata\\local\\programs\\python\\python311\\lib\\site-packages (from nltk->pywsd) (2024.11.6)\n",
      "Requirement already satisfied: tqdm in c:\\users\\akhil\\appdata\\local\\programs\\python\\python311\\lib\\site-packages (from nltk->pywsd) (4.67.0)\n",
      "Requirement already satisfied: python-dateutil>=2.8.2 in c:\\users\\akhil\\appdata\\roaming\\python\\python311\\site-packages (from pandas->pywsd) (2.9.0.post0)\n",
      "Requirement already satisfied: pytz>=2020.1 in c:\\users\\akhil\\appdata\\local\\programs\\python\\python311\\lib\\site-packages (from pandas->pywsd) (2024.2)\n",
      "Requirement already satisfied: tzdata>=2022.7 in c:\\users\\akhil\\appdata\\local\\programs\\python\\python311\\lib\\site-packages (from pandas->pywsd) (2024.2)\n",
      "Requirement already satisfied: colorama in c:\\users\\akhil\\appdata\\roaming\\python\\python311\\site-packages (from click->nltk->pywsd) (0.4.6)\n"
     ]
    }
   ],
   "source": [
    "# pywsd library is a tool for resolving word ambiguity in NLP\n",
    "!pip install pywsd"
   ]
  },
  {
   "cell_type": "markdown",
   "id": "5b709270",
   "metadata": {},
   "source": [
    "# Importing averaged_perceptron_tagger finding POS_tagging"
   ]
  },
  {
   "cell_type": "code",
   "execution_count": 10,
   "id": "6d40d6bf",
   "metadata": {},
   "outputs": [
    {
     "name": "stderr",
     "output_type": "stream",
     "text": [
      "[nltk_data] Downloading package averaged_perceptron_tagger to\n",
      "[nltk_data]     C:\\Users\\akhil\\AppData\\Roaming\\nltk_data...\n",
      "[nltk_data]   Package averaged_perceptron_tagger is already up-to-\n",
      "[nltk_data]       date!\n"
     ]
    },
    {
     "data": {
      "text/plain": [
       "True"
      ]
     },
     "execution_count": 10,
     "metadata": {},
     "output_type": "execute_result"
    }
   ],
   "source": [
    "import nltk\n",
    "nltk.download('averaged_perceptron_tagger')"
   ]
  },
  {
   "cell_type": "code",
   "execution_count": 11,
   "id": "3d3430fc",
   "metadata": {},
   "outputs": [
    {
     "name": "stderr",
     "output_type": "stream",
     "text": [
      "[nltk_data] Downloading package averaged_perceptron_tagger_eng to\n",
      "[nltk_data]     C:\\Users\\akhil\\AppData\\Roaming\\nltk_data...\n",
      "[nltk_data]   Package averaged_perceptron_tagger_eng is already up-to-\n",
      "[nltk_data]       date!\n"
     ]
    },
    {
     "data": {
      "text/plain": [
       "True"
      ]
     },
     "execution_count": 11,
     "metadata": {},
     "output_type": "execute_result"
    }
   ],
   "source": [
    "import nltk\n",
    "nltk.download('averaged_perceptron_tagger_eng')"
   ]
  },
  {
   "cell_type": "code",
   "execution_count": 12,
   "id": "b7d014ea",
   "metadata": {},
   "outputs": [
    {
     "name": "stderr",
     "output_type": "stream",
     "text": [
      "Warming up PyWSD (takes ~10 secs)... took 4.300938844680786 secs.\n"
     ]
    }
   ],
   "source": [
    "from pywsd.utils import lemmatize_sentence"
   ]
  },
  {
   "cell_type": "code",
   "execution_count": 13,
   "id": "8b8d8753",
   "metadata": {},
   "outputs": [
    {
     "name": "stderr",
     "output_type": "stream",
     "text": [
      "[nltk_data] Downloading package wordnet to\n",
      "[nltk_data]     C:\\Users\\akhil\\AppData\\Roaming\\nltk_data...\n",
      "[nltk_data]   Package wordnet is already up-to-date!\n"
     ]
    },
    {
     "data": {
      "text/plain": [
       "True"
      ]
     },
     "execution_count": 13,
     "metadata": {},
     "output_type": "execute_result"
    }
   ],
   "source": [
    "# importing wordnet is used for meanings, synonyms, antonyms, and relationships to other words. \n",
    "# other NLP (Natural Language Processing) tasks.\n",
    "import nltk\n",
    "nltk.download('wordnet')"
   ]
  },
  {
   "cell_type": "code",
   "execution_count": 14,
   "id": "1fa5cfc9",
   "metadata": {},
   "outputs": [],
   "source": [
    "for k in range(df.shape[0]):\n",
    "    df.at[k,\"words\"]=list(\"\")\n",
    "    for j in range(len(df.loc[k,\"sentences\"])):\n",
    "        df.at[k,\"words\"].extend(lemmatize_sentence(df.loc[k,\"sentences\"][j]))"
   ]
  },
  {
   "cell_type": "code",
   "execution_count": 15,
   "id": "e8af2054",
   "metadata": {},
   "outputs": [],
   "source": [
    "df[\"words_sentences\"]=\"default\""
   ]
  },
  {
   "cell_type": "code",
   "execution_count": 17,
   "id": "41ae8a44",
   "metadata": {},
   "outputs": [],
   "source": [
    "import functools\n",
    "for k in range(df.shape[0]):\n",
    "    df.loc[k,\"words_sentences\"]=functools.reduce(lambda a,b:( str(a)+str(\" \")+str(b)),df.loc[k,\"words\"])"
   ]
  },
  {
   "cell_type": "markdown",
   "id": "23ea06e7",
   "metadata": {},
   "source": [
    "# importing Countvectorizer"
   ]
  },
  {
   "cell_type": "code",
   "execution_count": 18,
   "id": "00e4c9ee",
   "metadata": {},
   "outputs": [],
   "source": [
    "from sklearn.feature_extraction.text import CountVectorizer"
   ]
  },
  {
   "cell_type": "code",
   "execution_count": 19,
   "id": "5bf17393",
   "metadata": {},
   "outputs": [],
   "source": [
    "df1=df\n",
    "no_features=1000\n",
    "tf_vectorizer=CountVectorizer(max_features=no_features,stop_words='english')\n",
    "tf=tf_vectorizer.fit_transform(df1.words_sentences)"
   ]
  },
  {
   "cell_type": "code",
   "execution_count": 21,
   "id": "4c3646cf",
   "metadata": {},
   "outputs": [],
   "source": [
    "# df_x=pd.DataFrame(tf.A, columns=tf_vectorizer.get_feature_names_out())\n",
    "# Convert sparse matrix to dense array\n",
    "df_x = pd.DataFrame(tf.toarray(), columns=tf_vectorizer.get_feature_names_out())\n"
   ]
  },
  {
   "cell_type": "code",
   "execution_count": 22,
   "id": "aca92d87",
   "metadata": {},
   "outputs": [],
   "source": [
    "df_y=df[\"verified\"]"
   ]
  },
  {
   "cell_type": "markdown",
   "id": "2b99dc4a",
   "metadata": {},
   "source": [
    "# importing LabelEncoder"
   ]
  },
  {
   "cell_type": "code",
   "execution_count": 23,
   "id": "0fe1c2d3",
   "metadata": {},
   "outputs": [],
   "source": [
    "from sklearn.preprocessing import LabelEncoder"
   ]
  },
  {
   "cell_type": "code",
   "execution_count": 24,
   "id": "a64430cc",
   "metadata": {},
   "outputs": [],
   "source": [
    "le=LabelEncoder()"
   ]
  },
  {
   "cell_type": "code",
   "execution_count": 25,
   "id": "95804f49",
   "metadata": {},
   "outputs": [],
   "source": [
    "df_y_1=pd.DataFrame(df_y)"
   ]
  },
  {
   "cell_type": "code",
   "execution_count": 26,
   "id": "df0a7b56",
   "metadata": {},
   "outputs": [],
   "source": [
    "df_y_enc=df_y_1.apply(le.fit_transform)"
   ]
  },
  {
   "cell_type": "code",
   "execution_count": 27,
   "id": "ef6132b4",
   "metadata": {},
   "outputs": [
    {
     "data": {
      "text/plain": [
       "Index(['verified'], dtype='object')"
      ]
     },
     "execution_count": 27,
     "metadata": {},
     "output_type": "execute_result"
    }
   ],
   "source": [
    "df_y_enc.columns"
   ]
  },
  {
   "cell_type": "code",
   "execution_count": 29,
   "id": "aae42364",
   "metadata": {},
   "outputs": [
    {
     "data": {
      "text/html": [
       "<div>\n",
       "<style scoped>\n",
       "    .dataframe tbody tr th:only-of-type {\n",
       "        vertical-align: middle;\n",
       "    }\n",
       "\n",
       "    .dataframe tbody tr th {\n",
       "        vertical-align: top;\n",
       "    }\n",
       "\n",
       "    .dataframe thead th {\n",
       "        text-align: right;\n",
       "    }\n",
       "</style>\n",
       "<table border=\"1\" class=\"dataframe\">\n",
       "  <thead>\n",
       "    <tr style=\"text-align: right;\">\n",
       "      <th></th>\n",
       "      <th>verified</th>\n",
       "    </tr>\n",
       "  </thead>\n",
       "  <tbody>\n",
       "    <tr>\n",
       "      <th>0</th>\n",
       "      <td>1</td>\n",
       "    </tr>\n",
       "    <tr>\n",
       "      <th>1</th>\n",
       "      <td>1</td>\n",
       "    </tr>\n",
       "    <tr>\n",
       "      <th>2</th>\n",
       "      <td>1</td>\n",
       "    </tr>\n",
       "    <tr>\n",
       "      <th>3</th>\n",
       "      <td>1</td>\n",
       "    </tr>\n",
       "    <tr>\n",
       "      <th>4</th>\n",
       "      <td>0</td>\n",
       "    </tr>\n",
       "  </tbody>\n",
       "</table>\n",
       "</div>"
      ],
      "text/plain": [
       "   verified\n",
       "0         1\n",
       "1         1\n",
       "2         1\n",
       "3         1\n",
       "4         0"
      ]
     },
     "execution_count": 29,
     "metadata": {},
     "output_type": "execute_result"
    }
   ],
   "source": [
    "df_y_enc.head(5)"
   ]
  },
  {
   "cell_type": "code",
   "execution_count": 30,
   "id": "3cf6ae90",
   "metadata": {},
   "outputs": [
    {
     "name": "stderr",
     "output_type": "stream",
     "text": [
      "c:\\Users\\akhil\\AppData\\Local\\Programs\\Python\\Python311\\Lib\\site-packages\\sklearn\\base.py:1473: DataConversionWarning: A column-vector y was passed when a 1d array was expected. Please change the shape of y to (n_samples,), for example using ravel().\n",
      "  return fit_method(estimator, *args, **kwargs)\n"
     ]
    },
    {
     "name": "stdout",
     "output_type": "stream",
     "text": [
      "Random Forest Accuracy: 100.00%\n"
     ]
    }
   ],
   "source": [
    "#Import Libraries:\n",
    "from sklearn.ensemble import RandomForestClassifier\n",
    "from sklearn.metrics import accuracy_score\n",
    "\n",
    "#Random Forest Initialization:\n",
    "rf=RandomForestClassifier(n_estimators=500,random_state=42)\n",
    "\n",
    "#Fit the Model:\n",
    "rf.fit(df_x,df_y_enc)\n",
    "\n",
    "accuracy_rf=rf.score(df_x,df_y_enc)\n",
    "print(f\"Random Forest Accuracy: {accuracy_rf*100:.2f}%\")"
   ]
  },
  {
   "cell_type": "code",
   "execution_count": 31,
   "id": "d669737f",
   "metadata": {},
   "outputs": [
    {
     "name": "stdout",
     "output_type": "stream",
     "text": [
      "Naive Bayes Accuracy: 93.00%\n"
     ]
    },
    {
     "name": "stderr",
     "output_type": "stream",
     "text": [
      "c:\\Users\\akhil\\AppData\\Local\\Programs\\Python\\Python311\\Lib\\site-packages\\sklearn\\utils\\validation.py:1339: DataConversionWarning: A column-vector y was passed when a 1d array was expected. Please change the shape of y to (n_samples, ), for example using ravel().\n",
      "  y = column_or_1d(y, warn=True)\n"
     ]
    }
   ],
   "source": [
    "#Import Library:\n",
    "from sklearn.naive_bayes import MultinomialNB\n",
    "\n",
    "#Initialize Classifier:\n",
    "nb=MultinomialNB()\n",
    "\n",
    "#Fit the Model\n",
    "nb.fit(df_x,df_y_enc)\n",
    "\n",
    "accuracy_nb=nb.score(df_x,df_y_enc)\n",
    "print(f\"Naive Bayes Accuracy: {accuracy_nb*100:.2f}%\")"
   ]
  },
  {
   "cell_type": "code",
   "execution_count": 32,
   "id": "ad0c764b",
   "metadata": {},
   "outputs": [],
   "source": [
    "from sklearn.ensemble import GradientBoostingClassifier"
   ]
  },
  {
   "cell_type": "code",
   "execution_count": 33,
   "id": "24b89153",
   "metadata": {},
   "outputs": [],
   "source": [
    "# Initialize the Gradient Boosting Classifier\n",
    "GBC=GradientBoostingClassifier(n_estimators=1000)"
   ]
  },
  {
   "cell_type": "code",
   "execution_count": 34,
   "id": "f5759743",
   "metadata": {},
   "outputs": [
    {
     "name": "stderr",
     "output_type": "stream",
     "text": [
      "c:\\Users\\akhil\\AppData\\Local\\Programs\\Python\\Python311\\Lib\\site-packages\\sklearn\\preprocessing\\_label.py:114: DataConversionWarning: A column-vector y was passed when a 1d array was expected. Please change the shape of y to (n_samples, ), for example using ravel().\n",
      "  y = column_or_1d(y, warn=True)\n"
     ]
    }
   ],
   "source": [
    "## Fit the model\n",
    "gb_c=GBC.fit(df_x,df_y_enc)"
   ]
  },
  {
   "cell_type": "code",
   "execution_count": 35,
   "id": "d1022eeb",
   "metadata": {},
   "outputs": [
    {
     "name": "stdout",
     "output_type": "stream",
     "text": [
      "gbc_score: 100.00%\n"
     ]
    }
   ],
   "source": [
    "# Calculate accuracy\n",
    "gbc_score=GBC.score(df_x,df_y_enc)\n",
    "print(f\"gbc_score: {gbc_score*100:.2f}%\")"
   ]
  }
 ],
 "metadata": {
  "kernelspec": {
   "display_name": "Python 3",
   "language": "python",
   "name": "python3"
  },
  "language_info": {
   "codemirror_mode": {
    "name": "ipython",
    "version": 3
   },
   "file_extension": ".py",
   "mimetype": "text/x-python",
   "name": "python",
   "nbconvert_exporter": "python",
   "pygments_lexer": "ipython3",
   "version": "3.11.5"
  }
 },
 "nbformat": 4,
 "nbformat_minor": 5
}
